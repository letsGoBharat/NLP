{
 "cells": [
  {
   "cell_type": "code",
   "execution_count": 25,
   "metadata": {},
   "outputs": [],
   "source": [
    "from gensim.models import Word2Vec\n",
    "from nltk.cluster import KMeansClusterer\n",
    "import nltk\n",
    "import matplotlib.pyplot as plt"
   ]
  },
  {
   "cell_type": "code",
   "execution_count": 11,
   "metadata": {},
   "outputs": [],
   "source": [
    "sentences = [['this', 'is', 'the', 'good', 'machine', 'learning', 'book'],\n",
    "            ['this', 'is',  'another', 'book'],\n",
    "            ['one', 'more', 'book'],\n",
    "            ['this', 'is', 'the', 'new', 'post'],\n",
    "            ['this', 'is', 'about', 'machine', 'learning', 'post'],  \n",
    "            ['and', 'this', 'is', 'the', 'last', 'post']]\n",
    "\n",
    "model = Word2Vec(sentences, min_count=1)"
   ]
  },
  {
   "cell_type": "code",
   "execution_count": 17,
   "metadata": {},
   "outputs": [
    {
     "name": "stdout",
     "output_type": "stream",
     "text": [
      "0.027091563\n",
      "-0.056480486\n",
      "[('about', 0.2069336175918579), ('the', 0.12912717461585999), ('another', 0.12902423739433289)]\n",
      "[ 4.1407733e-03 -2.3935421e-03  5.7554385e-04 -2.9758587e-03\n",
      " -1.1795366e-03  3.3837454e-03  2.3734572e-03 -4.8141084e-03\n",
      "  1.1700832e-03 -2.1185603e-03 -4.9777916e-03 -1.0765559e-04\n",
      " -5.4308388e-04 -3.6443770e-03 -1.2902040e-03  3.7477174e-04\n",
      " -3.3227268e-03  4.8732734e-03 -9.1756223e-04  4.1688574e-03\n",
      " -1.9711182e-03 -2.1514744e-03 -3.8079971e-03 -1.4506551e-03\n",
      " -2.4382225e-03  1.0703114e-03 -1.8897217e-03 -1.3329000e-04\n",
      " -1.3434869e-03 -2.3942755e-03  4.3736342e-03 -3.4892436e-03\n",
      "  1.1466298e-05  2.0111855e-03  4.2934544e-04  3.3051666e-04\n",
      "  1.8406406e-03 -1.3919595e-03 -3.0059039e-03  4.7546765e-03\n",
      "  3.2244262e-03  6.1937538e-04  2.1111194e-04 -4.3657916e-03\n",
      "  2.8270124e-03  3.1115161e-03 -7.2161306e-04  4.5372238e-03\n",
      " -4.8639826e-03 -4.6095983e-03 -1.8177369e-03  4.3383539e-03\n",
      "  1.0080810e-03 -4.5060790e-03 -4.4456716e-03 -3.5879207e-03\n",
      " -4.5249383e-03 -5.0264446e-04 -1.9251984e-04  2.5019057e-03\n",
      "  3.7251494e-03 -1.3285456e-03  3.8486253e-03 -2.9866796e-03\n",
      "  2.4844380e-04 -2.1881305e-03 -7.9489144e-04 -4.3612081e-03\n",
      "  1.5211244e-04  3.4621009e-03  2.1041031e-03 -4.4919755e-03\n",
      " -1.4628156e-03 -2.3324408e-03 -4.7427402e-03 -4.3974784e-03\n",
      "  4.1957772e-03 -6.5166486e-04  2.0853817e-03  4.0889708e-03\n",
      " -2.5721812e-03  2.2129498e-03  4.6561700e-03  3.2608649e-03\n",
      "  3.0498202e-03 -4.7899326e-03  1.7200967e-06  2.4322132e-04\n",
      " -4.9181684e-04 -3.0359060e-03  6.5293466e-04  4.2328928e-03\n",
      "  1.6167278e-03 -1.6314063e-03  7.6069240e-04 -7.4170507e-04\n",
      " -2.5119963e-03  2.4006276e-03 -4.8129372e-03 -1.8119771e-03]\n"
     ]
    },
    {
     "name": "stderr",
     "output_type": "stream",
     "text": [
      "C:\\Users\\ebhhsaa\\Anaconda3\\envs\\ericsson_esi_logs\\lib\\site-packages\\ipykernel_launcher.py:1: DeprecationWarning: Call to deprecated `similarity` (Method will be removed in 4.0.0, use self.wv.similarity() instead).\n",
      "  \"\"\"Entry point for launching an IPython kernel.\n",
      "C:\\Users\\ebhhsaa\\Anaconda3\\envs\\ericsson_esi_logs\\lib\\site-packages\\ipykernel_launcher.py:2: DeprecationWarning: Call to deprecated `similarity` (Method will be removed in 4.0.0, use self.wv.similarity() instead).\n",
      "  \n",
      "C:\\Users\\ebhhsaa\\Anaconda3\\envs\\ericsson_esi_logs\\lib\\site-packages\\ipykernel_launcher.py:3: DeprecationWarning: Call to deprecated `most_similar` (Method will be removed in 4.0.0, use self.wv.most_similar() instead).\n",
      "  This is separate from the ipykernel package so we can avoid doing imports until\n",
      "C:\\Users\\ebhhsaa\\Anaconda3\\envs\\ericsson_esi_logs\\lib\\site-packages\\ipykernel_launcher.py:4: DeprecationWarning: Call to deprecated `__getitem__` (Method will be removed in 4.0.0, use self.wv.__getitem__() instead).\n",
      "  after removing the cwd from sys.path.\n"
     ]
    }
   ],
   "source": [
    "print (model.similarity('this', 'is'))\n",
    "print (model.similarity('post', 'book'))\n",
    "print (model.most_similar(positive=['machine'], negative=[], topn=3))\n",
    "print (model['the'])"
   ]
  },
  {
   "cell_type": "code",
   "execution_count": 21,
   "metadata": {},
   "outputs": [
    {
     "name": "stdout",
     "output_type": "stream",
     "text": [
      "['this', 'is', 'the', 'good', 'machine', 'learning', 'book', 'another', 'one', 'more', 'new', 'post', 'about', 'and', 'last']\n"
     ]
    }
   ],
   "source": [
    "print(list(model.wv.vocab))"
   ]
  },
  {
   "cell_type": "code",
   "execution_count": 30,
   "metadata": {},
   "outputs": [
    {
     "name": "stdout",
     "output_type": "stream",
     "text": [
      "[1, 2, 0, 2, 0, 1, 0, 2, 1, 0, 0, 1, 2, 1, 2]\n"
     ]
    },
    {
     "name": "stderr",
     "output_type": "stream",
     "text": [
      "C:\\Users\\ebhhsaa\\Anaconda3\\envs\\ericsson_esi_logs\\lib\\site-packages\\ipykernel_launcher.py:2: DeprecationWarning: Call to deprecated `__getitem__` (Method will be removed in 4.0.0, use self.wv.__getitem__() instead).\n",
      "  \n"
     ]
    }
   ],
   "source": [
    "#Clustering\n",
    "X = model[model.wv.vocab]\n",
    "NUM_CLUSTERS=3\n",
    "kclusterer = KMeansClusterer(NUM_CLUSTERS, distance=nltk.cluster.util.cosine_distance, repeats=25)\n",
    "assigned_clusters = kclusterer.cluster(X, assign_clusters=True)\n",
    "print (assigned_clusters)"
   ]
  },
  {
   "cell_type": "code",
   "execution_count": 31,
   "metadata": {},
   "outputs": [
    {
     "name": "stdout",
     "output_type": "stream",
     "text": [
      "this:1\n",
      "is:2\n",
      "the:0\n",
      "good:2\n",
      "machine:0\n",
      "learning:1\n",
      "book:0\n",
      "another:2\n",
      "one:1\n",
      "more:0\n",
      "new:0\n",
      "post:1\n",
      "about:2\n",
      "and:1\n",
      "last:2\n"
     ]
    }
   ],
   "source": [
    "words = list(model.wv.vocab)\n",
    "for i, word in enumerate(words):  \n",
    "    print (word + \":\" + str(assigned_clusters[i]))"
   ]
  }
 ],
 "metadata": {
  "kernelspec": {
   "display_name": "Python 3",
   "language": "python",
   "name": "python3"
  },
  "language_info": {
   "codemirror_mode": {
    "name": "ipython",
    "version": 3
   },
   "file_extension": ".py",
   "mimetype": "text/x-python",
   "name": "python",
   "nbconvert_exporter": "python",
   "pygments_lexer": "ipython3",
   "version": "3.7.7"
  }
 },
 "nbformat": 4,
 "nbformat_minor": 4
}
